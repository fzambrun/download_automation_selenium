{
 "cells": [
  {
   "cell_type": "markdown",
   "id": "67838bdd",
   "metadata": {},
   "source": [
    "# Descarga Automatica DDJJ CAPIV con Selenium"
   ]
  },
  {
   "cell_type": "markdown",
   "id": "20bd3aed",
   "metadata": {},
   "source": [
    "Se importan las librerias necesarias. "
   ]
  },
  {
   "cell_type": "code",
   "execution_count": 8,
   "id": "012737cd",
   "metadata": {},
   "outputs": [],
   "source": [
    "from selenium import webdriver\n",
    "from selenium.webdriver.chrome.options import Options\n",
    "from selenium.webdriver.support.ui import WebDriverWait\n",
    "from selenium.webdriver.support import expected_conditions as EC\n",
    "from selenium.webdriver.common.by import By\n",
    "from time import sleep\n",
    "from datetime import datetime\n",
    "import pandas as pd\n",
    "from numpy import random\n",
    "from selenium.common import exceptions  \n",
    "\n",
    "import glob\n",
    "from itertools import islice\n",
    "import win32com.client as win32"
   ]
  },
  {
   "cell_type": "markdown",
   "id": "1efd3d03",
   "metadata": {},
   "source": [
    "Se definen los parametros para el driver de selenium como la pagina de donde se realizara la descraga, el repositorio donde se guardaran los archivos, el path al driver, etc."
   ]
  },
  {
   "cell_type": "code",
   "execution_count": null,
   "id": "40f053b1",
   "metadata": {},
   "outputs": [],
   "source": [
    "my_url = f'https://www.se.gob.ar/datosupstream/consulta_avanzada/listado.php'\n",
    "option = Options()\n",
    "option.headless = False\n",
    "prefs = {'download.default_directory' : r'C:\\XXXXXXXXXXXXXXXXXXXX'} #---> se indica el directorio en donde se descargaran los archivos\n",
    "option.add_experimental_option('prefs', prefs)\n",
    "driver = webdriver.Chrome(options=option, executable_path=r'C:\\XXXXXXXXXXXXXXXXXXXXXXXXX\\chromedriver.exe')#--> se indica el path al dirver de selenium\n",
    "driver.get(my_url)\n",
    "#driver.maximize_window()"
   ]
  },
  {
   "cell_type": "markdown",
   "id": "301de13f",
   "metadata": {},
   "source": [
    "Se seleccionan los 3 despegables presentes en la pagina para ver su contenido. Como resultado se obtiene una lista con los nombres de cada empresa, otra con los meses y otra con los años que luego se utilizaran para iterar al momento de comenzar la descarga"
   ]
  },
  {
   "cell_type": "code",
   "execution_count": 3,
   "id": "8c8a1f18",
   "metadata": {},
   "outputs": [
    {
     "name": "stdout",
     "output_type": "stream",
     "text": [
      "\n",
      "\n",
      "['-> Seleccione una Empresa <-', 'ALIANZA PETROLERA ARGENTINA S.A.', 'AMERICAS PETROGAS ARGENTINA S.A.', 'APACHE ENERGIA ARGENTINA S.R.L.', 'APACHE PETROLERA ARGENTINA S.A.', 'APCO ARGENTINA INC.', 'APCO OIL AND GAS INTERNATIONAL INC (SUCURSAL ARGENTINA)', 'ARGENTA ENERGIA S.A.', 'CAPETROL ARGENTINA S.A.', 'CAPETROL S.A.', 'CAPEX S.A.', 'CENTRAL INTERNATIONAL CORPORATION (SUCURSAL ARGENTINA)', 'CGC ENERGIA SAU', 'CHAÑARES ENERGIA S.A.', 'CHEVRON ARGENTINA S.R.L.', 'CLEAR S.R.L.', 'COLHUE HUAPI S.A.', 'COMPAÑÍA GENERAL DE COMBUSTIBLES S.A.', 'COMPAÑÍAS ASOCIADAS PETROLERAS S.A.', 'COPESA CIA CONSTRUCTORA PETROLERA SA', 'CRI HOLDING, INC.', 'CROWN POINT ENERGIA S.A.', 'CROWN POINT OIL & GAS S.A.', 'DAPETROL S.A.', 'EDHIPSA', 'EHRENCAP S.A.', 'ENAP SIPETROL ARGENTINA S.A.', 'ENARSA ENERGIA ARGENTINA S.A.', 'ENERGIA COMPAÑIA PETROLERA S.A.', 'ENERGIAL S.A.', 'ENERGICON S.A.', 'ENERGY OPERATIONS ARGENTINA LLC', 'ENI ARGENTINA EXPLORACION Y EXPLOTACION S.A.', 'EPP PETROLEO S.A.', 'EPSUR S.A.', 'EQUINOR ARGENTINA AS SUCURSAL ARGENTINA', 'EQUINOR B.V. (SUCURSAL ARGENTINA)', 'ESTADO NACIONAL', 'EXXONMOBIL EXPLORATION AND PRODUCTION OFFSHORE ARGENTINA S.R.L.', 'EXXONMOBIL EXPLORATION ARGENTINA S.R.L.', 'EZ HOLDINGS S.A.', 'FOMICRUZ S.E.', 'FOX PETROL S.A.', 'GAS Y PETROLEO DEL NEUQUEN S.A.', 'GEOPARK ARGENTINA LTD. (SUCURSAL ARGENTINA)', 'GOLDEN OIL CORPORATION SUC. ARG.', 'GRECOIL Y CIA. S.R.L.', 'G Y G S.A', 'HATTRICK ENERGY SAS', 'HIDENESA S.A.', 'HIGH LUCK GROUP LTD. - SUCURSAL ARGENTINA', 'INGENIERIA ALPA S.A.', 'INGENIERIA SIMA S.A.', 'INTEGRACION ENERGETICA ARGENTINA S.A.', 'INTERENERGY ARGENTINA S.A.', 'JEMSE - JUJUY ENERGIA Y MINERIA S. E.', 'JHP INTERNATIONAL PETROLEUM ENGINEERING LTD', 'JUJUY HIDROCARBUROS SAU', 'KILWER S.A.', 'MADALENA AUSTRAL S.A.', 'MADALENA ENERGY ARGENTINA SRL', 'MADALENA PETROLEUM (AMERICAS) LTD. (SUCURSAL ARGENTINA)', 'MAXIPETROL - PETROLEROS DE OCCIDENTE S.A.', 'MEDANITO S.A.', 'MISAHAR ARGENTINA S.A.', 'OCCIDENTAL ARGENTINA EXPLORATION AND PRODUCTION, INC.', 'O&G DEVELOPMENTS LTD S.A.', 'OIL M&S S.A.', 'OILSTONE ENERGIA S.A.', 'PAMPA ENERGIA S.A.', 'PAMPETROL S.A.P.E.M', 'PAN AMERICAN ENERGY SL', 'PAN AMERICAN ENERGY (SUCURSAL ARGENTINA) LLC', 'PAN AMERICAN FUEGUINA S.A.', 'PATAGONIA ENERGY S.A.', 'PETRO AP S.A.', 'PETROBRAS ARGENTINA S.A.', 'PETROFARO S.A.', 'PETROLEOS SUDAMERICANOS S.A.', 'PETROLERA ACONCAGUA ENERGIA S.A.', 'PETROLERA CERRO NEGRO S.A.', 'PETROLERA DEL COMAHUE S.A.', 'PETROLERA EL TREBOL S.A.', 'PETROLERA ENTRE LOMAS S.A.', 'PETROLERA PAMPA S.A.', 'PETROLERA PATAGONIA S.R.L.', 'PETROLERA PIEDRA DEL AGUILA S.A.', 'PETROLERA SAN JOSE S.R.L.', 'PETROLERA SAN MIGUEL S.A.', 'PETROLERA SANTA FE S.A.', 'PETROLERA SOUTHPOLE (EMPRESA FICTICIA DE PRUEBA)', 'PETROLSUR ENERGIA S.A.', 'PETROMINERA CHUBUT S.E.', 'PETROQUIMICA COMODORO RIVADAVIA S.A.', 'PETRO TERRA CORPORATION', 'PHA PETROHIDROCARBUROS ARGENTINOS S.A.', 'PILGRIM ENERGY S.A.', 'PLUSPETROL ENERGY S.A.', 'PLUSPETROL S.A.', 'PRESIDENT PETROLEUM S.A.', 'PROVINCIA BUENOS AIRES', 'PROVINCIA CHUBUT', 'PROVINCIA FORMOSA', 'PROVINCIA JUJUY', 'PROVINCIA LA PAMPA', 'PROVINCIA LA RIOJA', 'PROVINCIA MENDOZA', 'PROVINCIA NEUQUEN', 'PROVINCIA RIO NEGRO', 'PROVINCIA SANTA CRUZ', 'PROVINCIA TIERRA DEL FUEGO', 'QUINTANA E&P ARGENTINA S.R.L.', 'RAISER S.A.', 'RECURSOS Y ENERGIA FORMOSA S.A.', 'ROCH S.A.', 'SAN JORGE PETROLEUM S.A.', 'SCAN OIL & ENERGY ARGENTINA S.A.', 'SELVA MARIA OIL S.A.', 'SHELL ARGENTINA S.A.', 'SHELL C.A.P.S.A.', 'SINOPEC ARGENTINA EXPLORATION AND PRODUCTION, INC.', 'STATOIL ARGENTINA B.V. (SUCURSAL ARGENTINA)', 'TECNICAGUA S.A.', 'TECPETROL S.A.', 'TOTAL AUSTRAL S.A.', 'TULLOW ARGENTINA LIMITED SUCURSAL ARGENTINA', 'UNITEC ENERGY S.A.', 'VENOIL S.A.', 'VISTA ENERGY ARGENTINA SAU', 'VISTA OIL & GAS ARGENTINA SAU', 'WINTERSHALL DEA ARGENTINA S.A', 'WINTERSHALL ENERGIA S.A.', 'YPF S.A.']\n",
      "\n",
      "\n",
      "['Todo el año', 'Enero', 'Febrero', 'Marzo', 'Abril', 'Mayo', 'Junio', 'Julio', 'Agosto', 'Septiembre', 'Octubre', 'Noviembre', 'Diciembre']\n",
      "\n",
      "\n",
      "['2023', '2022', '2021', '2020', '2019', '2018', '2017', '2016', '2015', '2014', '2013', '2012', '2011', '2010', '2009', '2008', '2007', '2006']\n"
     ]
    }
   ],
   "source": [
    "\n",
    "#Para hacer click en las empresas inhabilitadas\n",
    "#driver.find_element_by_xpath('//*[@id=\"ck_empresas_desabilitadas\"]').click()\n",
    "\n",
    "from selenium.webdriver.support.ui import Select\n",
    "drp1 = Select(driver.find_element_by_xpath('//*[@id=\"contenedor-celeste-int\"]/div/form/div[2]/select'))\n",
    "drp2 = Select(driver.find_element_by_xpath('//*[@id=\"contenedor-celeste-int\"]/div/form/div[3]/select[1]'))\n",
    "drp3 = Select(driver.find_element_by_xpath('//*[@id=\"contenedor-celeste-int\"]/div/form/div[3]/select[2]'))\n",
    "\n",
    "all_options1 = drp1.options\n",
    "all_options2 = drp2.options\n",
    "all_options3 = drp3.options\n",
    "\n",
    "empresas =[]\n",
    "for option in all_options1:\n",
    "    empresa = option.text\n",
    "    empresas.append(empresa)\n",
    "\n",
    "print(\"\") \n",
    "print(\"\")    \n",
    "print(empresas)\n",
    "\n",
    "drp2 = Select(driver.find_element_by_xpath('//*[@id=\"contenedor-celeste-int\"]/div/form/div[3]/select[1]'))\n",
    "all_options = drp2.options\n",
    "\n",
    "meses =[]\n",
    "for option in all_options2:\n",
    "    mes = option.text\n",
    "    meses.append(mes)\n",
    "\n",
    "print(\"\") \n",
    "print(\"\") \n",
    "print(meses)\n",
    "\n",
    "drp3 = Select(driver.find_element_by_xpath('//*[@id=\"contenedor-celeste-int\"]/div/form/div[3]/select[2]'))\n",
    "all_options3 = drp3.options\n",
    "\n",
    "anos =[]\n",
    "for option in all_options3:\n",
    "    ano = option.text\n",
    "    anos.append(ano)\n",
    "\n",
    "print(\"\") \n",
    "print(\"\") \n",
    "print(anos)"
   ]
  },
  {
   "cell_type": "code",
   "execution_count": 32,
   "id": "0d197dac",
   "metadata": {},
   "outputs": [
    {
     "name": "stdout",
     "output_type": "stream",
     "text": [
      "133\n",
      "18\n"
     ]
    }
   ],
   "source": [
    "print(len(empresas))\n",
    "print(len(anos))"
   ]
  },
  {
   "cell_type": "markdown",
   "id": "7964d5b3",
   "metadata": {},
   "source": [
    "Como en principio la infomracion corresponde a 133 empresas desde el año 2006 puede llegar a haber 28728 archivos (133x18x12).\n",
    "No todas las empresas operaron todos los años pero para acotar la descraga tanto en cantidad de archivos como en tiempo vamos a fijar un mes y un año en particular. \n",
    "En caso de querer descragar toda la informacion disponible sería cuestion de agregar un ciclo *for* para la lista de años y otro para la lista de meses"
   ]
  },
  {
   "cell_type": "code",
   "execution_count": 4,
   "id": "2f189a43",
   "metadata": {},
   "outputs": [],
   "source": [
    "errores=[]\n",
    "\n",
    "drp2.select_by_visible_text('Diciembre')\n",
    "drp3.select_by_visible_text('2021')\n",
    "\n",
    "\n",
    "for empresa in empresas:\n",
    "    try: \n",
    "        drp1 = Select(driver.find_element_by_xpath('//*[@id=\"contenedor-celeste-int\"]/div/form/div[2]/select'))    \n",
    "        drp1.select_by_visible_text(empresa)\n",
    "\n",
    "        sleep(random.uniform(2,4))\n",
    "\n",
    "        elem = WebDriverWait(driver, 20).until(\n",
    "             EC.element_to_be_clickable((By.XPATH,'//*[@id=\"contenedor-celeste-int\"]/div/form/div[4]/input')))\n",
    "        elem.click()\n",
    "\n",
    "        sleep(random.uniform(2,4))\n",
    "\n",
    "        elem = WebDriverWait(driver, 20).until(\n",
    "            EC.element_to_be_clickable((By.XPATH,'//*[@id=\"contenedor-celeste-int\"]/div[2]/div/table/tbody/tr[2]/td[8]/a/img')))\n",
    "        elem.click()\n",
    "    except:\n",
    "        errores.append(empresa)\n"
   ]
  },
  {
   "cell_type": "code",
   "execution_count": 34,
   "id": "cc58bf9c",
   "metadata": {},
   "outputs": [
    {
     "name": "stdout",
     "output_type": "stream",
     "text": [
      "0\n"
     ]
    }
   ],
   "source": [
    "print(len(errores))"
   ]
  },
  {
   "cell_type": "markdown",
   "id": "f4009046",
   "metadata": {},
   "source": [
    "Los archivos se descargan en formato .xls por lo tanto para poder trabajar con la libreria openpyxl y que sea mas sencillo trabajar en la unificacion se convierten todos los archivos a .xlsx. "
   ]
  },
  {
   "cell_type": "code",
   "execution_count": 12,
   "id": "e16840d7",
   "metadata": {},
   "outputs": [
    {
     "name": "stdout",
     "output_type": "stream",
     "text": [
      "55\n"
     ]
    }
   ],
   "source": [
    "path = r'C:XXXXXXXX' #---> este directorio deberia ser el mismo en donde se descargan los archivos\n",
    "all_files = glob.glob(path + \"/*.xls\") #--> se crea una lista con la ruta de cada archivo con extension .xls en el directorio \n",
    "print(len(all_files))"
   ]
  },
  {
   "cell_type": "code",
   "execution_count": 13,
   "id": "24d913e2",
   "metadata": {},
   "outputs": [],
   "source": [
    "for filename in all_files:    \n",
    "    excel = win32.gencache.EnsureDispatch('Excel.Application')\n",
    "    wb = excel.Workbooks.Open(filename)\n",
    "\n",
    "    wb.SaveAs(filename+\"x\", FileFormat = 51)    #FileFormat = 51 is for .xlsx extension\n",
    "    wb.Close()                               #FileFormat = 56 is for .xls extension\n",
    "    excel.Application.Quit()\n",
    "\n",
    "\n",
    "all_files_converted = glob.glob(path + \"/*.xlsx\") #--->se crea una lista con la ruta de cada archivo con extension .xlsx en el directorio "
   ]
  },
  {
   "cell_type": "markdown",
   "id": "34865ebe",
   "metadata": {},
   "source": [
    "A continuacion se abre cada archivo .xlsx , se extrae la informacion relevante y se estructura de forma tal que se pueda crear una base de datos con los datos de cada reporte"
   ]
  },
  {
   "cell_type": "code",
   "execution_count": 16,
   "id": "b27d274e",
   "metadata": {},
   "outputs": [],
   "source": [
    "file=all_files_converted[0]\n",
    "file\n",
    "from openpyxl import load_workbook\n",
    "wb = load_workbook(file)\n",
    "ws = wb.active\n",
    "data = list(ws.values)\n",
    "cols= list(data[15])\n",
    "cols.insert(0,'Empresa')\n",
    "cols.insert(0,'Periodo')\n",
    "\n",
    "lista_de_DDJJ=[]\n",
    "lista_empresas=[]\n",
    "\n",
    "from openpyxl import load_workbook\n",
    "for file in all_files_converted:\n",
    "    wb = load_workbook(file)\n",
    "    ws = wb.active \n",
    "    data = ws.values\n",
    "    empresa = ws['A3']\n",
    "    periodo = ws['A4']\n",
    "    registros=ws['A7']\n",
    "    periodo = periodo.value.replace('Período: ','')\n",
    "    empresa = empresa.value.replace('Empresa: ','')\n",
    "    registros = int(registros.value.split()[-1])\n",
    "    data = list(data)\n",
    "    data = data[16:(16+registros)]\n",
    "    df= pd.DataFrame(data)\n",
    "    df.insert(0,-1,value=empresa)\n",
    "    df.insert(0,-2,value=periodo)\n",
    "    lista_de_DDJJ.append(df)\n",
    "    #print(empresa)\n",
    "    lista_empresas.append(empresa)\n"
   ]
  },
  {
   "cell_type": "markdown",
   "id": "d607bc71",
   "metadata": {},
   "source": [
    "Se crea la base de datos y se exporta en formato .csv"
   ]
  },
  {
   "cell_type": "code",
   "execution_count": 26,
   "id": "07407ff1",
   "metadata": {},
   "outputs": [],
   "source": [
    "database = pd.concat(lista_de_DDJJ)\n",
    "database.columns=[cols]\n",
    "database.to_csv('Dic_2021_CAPIV.csv', index=False)\n"
   ]
  }
 ],
 "metadata": {
  "kernelspec": {
   "display_name": "Python 3.8.8 ('dhdsblend2021')",
   "language": "python",
   "name": "python3"
  },
  "language_info": {
   "codemirror_mode": {
    "name": "ipython",
    "version": 3
   },
   "file_extension": ".py",
   "mimetype": "text/x-python",
   "name": "python",
   "nbconvert_exporter": "python",
   "pygments_lexer": "ipython3",
   "version": "3.8.8"
  },
  "vscode": {
   "interpreter": {
    "hash": "4f1d23a68a767857b429c44ff1b54f3b093f080e5ad14260d8715d6ae76d1e04"
   }
  }
 },
 "nbformat": 4,
 "nbformat_minor": 5
}
